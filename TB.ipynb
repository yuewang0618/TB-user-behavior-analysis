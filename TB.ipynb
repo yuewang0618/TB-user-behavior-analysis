{
 "cells": [
  {
   "cell_type": "code",
   "metadata": {
    "ExecuteTime": {
     "end_time": "2025-08-24T01:36:45.604337Z",
     "start_time": "2025-08-24T01:36:45.588618Z"
    }
   },
   "source": [
    "# 载入依赖包\n",
    "import pandas as pd\n",
    "import numpy as np\n",
    "import matplotlib.pyplot as plt\n",
    "import seaborn as sns\n",
    "import matplotlib.dates as mdates\n",
    "\n",
    "# 画图的主题设计\n",
    "sns.set_theme()\n",
    "sns.set_context('notebook')"
   ],
   "outputs": [],
   "execution_count": 1
  },
  {
   "cell_type": "code",
   "metadata": {
    "ExecuteTime": {
     "end_time": "2025-08-24T01:36:54.165704Z",
     "start_time": "2025-08-24T01:36:48.419382Z"
    }
   },
   "source": [
    "# 加载数据\n",
    "data_user = pd.read_csv('user_action.csv')\n",
    "data_user.head()"
   ],
   "outputs": [
    {
     "data": {
      "text/plain": [
       "    user_id    item_id  behavior_type  item_category           time\n",
       "0  98047837  232431562              1           4245  2014-12-06 02\n",
       "1  97726136  383583590              1           5894  2014-12-09 20\n",
       "2  98607707   64749712              1           2883  2014-12-18 11\n",
       "3  98662432  320593836              1           6562  2014-12-06 10\n",
       "4  98145908  290208520              1          13926  2014-12-16 21"
      ],
      "text/html": [
       "<div>\n",
       "<style scoped>\n",
       "    .dataframe tbody tr th:only-of-type {\n",
       "        vertical-align: middle;\n",
       "    }\n",
       "\n",
       "    .dataframe tbody tr th {\n",
       "        vertical-align: top;\n",
       "    }\n",
       "\n",
       "    .dataframe thead th {\n",
       "        text-align: right;\n",
       "    }\n",
       "</style>\n",
       "<table border=\"1\" class=\"dataframe\">\n",
       "  <thead>\n",
       "    <tr style=\"text-align: right;\">\n",
       "      <th></th>\n",
       "      <th>user_id</th>\n",
       "      <th>item_id</th>\n",
       "      <th>behavior_type</th>\n",
       "      <th>item_category</th>\n",
       "      <th>time</th>\n",
       "    </tr>\n",
       "  </thead>\n",
       "  <tbody>\n",
       "    <tr>\n",
       "      <th>0</th>\n",
       "      <td>98047837</td>\n",
       "      <td>232431562</td>\n",
       "      <td>1</td>\n",
       "      <td>4245</td>\n",
       "      <td>2014-12-06 02</td>\n",
       "    </tr>\n",
       "    <tr>\n",
       "      <th>1</th>\n",
       "      <td>97726136</td>\n",
       "      <td>383583590</td>\n",
       "      <td>1</td>\n",
       "      <td>5894</td>\n",
       "      <td>2014-12-09 20</td>\n",
       "    </tr>\n",
       "    <tr>\n",
       "      <th>2</th>\n",
       "      <td>98607707</td>\n",
       "      <td>64749712</td>\n",
       "      <td>1</td>\n",
       "      <td>2883</td>\n",
       "      <td>2014-12-18 11</td>\n",
       "    </tr>\n",
       "    <tr>\n",
       "      <th>3</th>\n",
       "      <td>98662432</td>\n",
       "      <td>320593836</td>\n",
       "      <td>1</td>\n",
       "      <td>6562</td>\n",
       "      <td>2014-12-06 10</td>\n",
       "    </tr>\n",
       "    <tr>\n",
       "      <th>4</th>\n",
       "      <td>98145908</td>\n",
       "      <td>290208520</td>\n",
       "      <td>1</td>\n",
       "      <td>13926</td>\n",
       "      <td>2014-12-16 21</td>\n",
       "    </tr>\n",
       "  </tbody>\n",
       "</table>\n",
       "</div>"
      ]
     },
     "execution_count": 2,
     "metadata": {},
     "output_type": "execute_result"
    }
   ],
   "execution_count": 2
  },
  {
   "cell_type": "code",
   "metadata": {
    "ExecuteTime": {
     "end_time": "2025-08-24T01:37:10.369924Z",
     "start_time": "2025-08-24T01:37:03.237741Z"
    }
   },
   "source": [
    "# 查看数据集量级\n",
    "print('Total Number: ',len(data_user))\n",
    "print('User Number: ',len(set(data_user['user_id'])))\n",
    "print('Item Number: ：',len(set(data_user['item_id'])))\n",
    "print('Item Category Number: ',len(set(data_user['item_category'])))"
   ],
   "outputs": [
    {
     "name": "stdout",
     "output_type": "stream",
     "text": [
      "Total Number:  12256906\n",
      "User Number:  10000\n",
      "Item Number: ： 2876947\n",
      "Item Category Number:  8916\n"
     ]
    }
   ],
   "execution_count": 3
  },
  {
   "cell_type": "code",
   "metadata": {
    "ExecuteTime": {
     "end_time": "2025-08-24T01:37:13.877273Z",
     "start_time": "2025-08-24T01:37:12.935624Z"
    }
   },
   "source": [
    "# 查看数据缺失情况\n",
    "data_user.isnull().sum()"
   ],
   "outputs": [
    {
     "data": {
      "text/plain": [
       "user_id          0\n",
       "item_id          0\n",
       "behavior_type    0\n",
       "item_category    0\n",
       "time             0\n",
       "dtype: int64"
      ]
     },
     "execution_count": 4,
     "metadata": {},
     "output_type": "execute_result"
    }
   ],
   "execution_count": 4
  },
  {
   "cell_type": "code",
   "metadata": {
    "ExecuteTime": {
     "end_time": "2025-08-24T01:37:43.753468Z",
     "start_time": "2025-08-24T01:37:18.812218Z"
    }
   },
   "source": [
    "# 分割date, year, month, day, hour\n",
    "data_user['date'] = data_user['time'].map(lambda x: x.split(' ')[0])\n",
    "data_user['year'] = data_user['date'].map(lambda x: x.split('-')[0])\n",
    "data_user['month'] = data_user['date'].map(lambda x: x.split('-')[1])\n",
    "data_user['day'] = data_user['date'].map(lambda x: x.split('-')[2])\n",
    "data_user['hour'] = data_user['time'].map(lambda x: x.split(' ')[1])\n",
    "#data_user.head()"
   ],
   "outputs": [],
   "execution_count": 5
  },
  {
   "cell_type": "code",
   "metadata": {
    "ExecuteTime": {
     "end_time": "2025-08-24T01:37:54.677245Z",
     "start_time": "2025-08-24T01:37:54.599559Z"
    }
   },
   "source": [
    "# 查看数据类型\n",
    "data_user.dtypes"
   ],
   "outputs": [
    {
     "data": {
      "text/plain": [
       "user_id           int64\n",
       "item_id           int64\n",
       "behavior_type     int64\n",
       "item_category     int64\n",
       "time             object\n",
       "date             object\n",
       "year             object\n",
       "month            object\n",
       "day              object\n",
       "hour             object\n",
       "dtype: object"
      ]
     },
     "execution_count": 6,
     "metadata": {},
     "output_type": "execute_result"
    }
   ],
   "execution_count": 6
  },
  {
   "cell_type": "code",
   "metadata": {
    "ExecuteTime": {
     "end_time": "2025-08-24T01:39:11.401188Z",
     "start_time": "2025-08-24T01:37:56.561403Z"
    }
   },
   "source": [
    "# 数据类型转换\n",
    "data_user['user_id'] = data_user['user_id'].astype('object')\n",
    "data_user['item_id'] = data_user['item_id'].astype('object')\n",
    "data_user['item_category'] = data_user['item_category'].astype('object')\n",
    "data_user['date'] = pd.to_datetime(data_user['date'])\n",
    "data_user['hour'] = data_user['hour'].astype('int64')\n",
    "data_user['year'] = data_user['year'].astype('int64')\n",
    "data_user['month'] = data_user['month'].astype('int64')\n",
    "data_user['day'] = data_user['day'].astype('int64')\n",
    "\n",
    "data_user.dtypes"
   ],
   "outputs": [
    {
     "data": {
      "text/plain": [
       "user_id                  object\n",
       "item_id                  object\n",
       "behavior_type             int64\n",
       "item_category            object\n",
       "time                     object\n",
       "date             datetime64[ns]\n",
       "year                      int64\n",
       "month                     int64\n",
       "day                       int64\n",
       "hour                      int64\n",
       "dtype: object"
      ]
     },
     "execution_count": 7,
     "metadata": {},
     "output_type": "execute_result"
    }
   ],
   "execution_count": 7
  },
  {
   "cell_type": "markdown",
   "metadata": {},
   "source": [
    "# 流量分析"
   ]
  },
  {
   "cell_type": "markdown",
   "metadata": {},
   "source": [
    "### 基于天级别"
   ]
  },
  {
   "cell_type": "code",
   "metadata": {
    "ExecuteTime": {
     "end_time": "2025-08-24T01:39:42.039684Z",
     "start_time": "2025-08-24T01:39:38.659116Z"
    }
   },
   "source": [
    "# 日访问量\n",
    "pv_daily = data_user.groupby('date')['user_id'].count()\n",
    "pv_daily = pv_daily.reset_index() \n",
    "pv_daily = pv_daily.rename(columns={'user_id':'pv_daily'})\n",
    "pv_daily.head()"
   ],
   "outputs": [
    {
     "data": {
      "text/plain": [
       "        date  pv_daily\n",
       "0 2014-11-18    366701\n",
       "1 2014-11-19    358823\n",
       "2 2014-11-20    353429\n",
       "3 2014-11-21    333104\n",
       "4 2014-11-22    361355"
      ],
      "text/html": [
       "<div>\n",
       "<style scoped>\n",
       "    .dataframe tbody tr th:only-of-type {\n",
       "        vertical-align: middle;\n",
       "    }\n",
       "\n",
       "    .dataframe tbody tr th {\n",
       "        vertical-align: top;\n",
       "    }\n",
       "\n",
       "    .dataframe thead th {\n",
       "        text-align: right;\n",
       "    }\n",
       "</style>\n",
       "<table border=\"1\" class=\"dataframe\">\n",
       "  <thead>\n",
       "    <tr style=\"text-align: right;\">\n",
       "      <th></th>\n",
       "      <th>date</th>\n",
       "      <th>pv_daily</th>\n",
       "    </tr>\n",
       "  </thead>\n",
       "  <tbody>\n",
       "    <tr>\n",
       "      <th>0</th>\n",
       "      <td>2014-11-18</td>\n",
       "      <td>366701</td>\n",
       "    </tr>\n",
       "    <tr>\n",
       "      <th>1</th>\n",
       "      <td>2014-11-19</td>\n",
       "      <td>358823</td>\n",
       "    </tr>\n",
       "    <tr>\n",
       "      <th>2</th>\n",
       "      <td>2014-11-20</td>\n",
       "      <td>353429</td>\n",
       "    </tr>\n",
       "    <tr>\n",
       "      <th>3</th>\n",
       "      <td>2014-11-21</td>\n",
       "      <td>333104</td>\n",
       "    </tr>\n",
       "    <tr>\n",
       "      <th>4</th>\n",
       "      <td>2014-11-22</td>\n",
       "      <td>361355</td>\n",
       "    </tr>\n",
       "  </tbody>\n",
       "</table>\n",
       "</div>"
      ]
     },
     "execution_count": 8,
     "metadata": {},
     "output_type": "execute_result"
    }
   ],
   "execution_count": 8
  },
  {
   "cell_type": "code",
   "metadata": {
    "ExecuteTime": {
     "end_time": "2025-08-24T01:40:02.042443Z",
     "start_time": "2025-08-24T01:39:58.721244Z"
    }
   },
   "source": [
    "# 日独立访问量\n",
    "uv_daily = data_user.groupby('date')['user_id'].apply(lambda x: len(x.unique()))\n",
    "uv_daily = uv_daily.reset_index() \n",
    "uv_daily = uv_daily.rename(columns={'user_id':'uv_daily'})\n",
    "uv_daily.head()"
   ],
   "outputs": [
    {
     "data": {
      "text/plain": [
       "        date  uv_daily\n",
       "0 2014-11-18      6343\n",
       "1 2014-11-19      6420\n",
       "2 2014-11-20      6333\n",
       "3 2014-11-21      6276\n",
       "4 2014-11-22      6187"
      ],
      "text/html": [
       "<div>\n",
       "<style scoped>\n",
       "    .dataframe tbody tr th:only-of-type {\n",
       "        vertical-align: middle;\n",
       "    }\n",
       "\n",
       "    .dataframe tbody tr th {\n",
       "        vertical-align: top;\n",
       "    }\n",
       "\n",
       "    .dataframe thead th {\n",
       "        text-align: right;\n",
       "    }\n",
       "</style>\n",
       "<table border=\"1\" class=\"dataframe\">\n",
       "  <thead>\n",
       "    <tr style=\"text-align: right;\">\n",
       "      <th></th>\n",
       "      <th>date</th>\n",
       "      <th>uv_daily</th>\n",
       "    </tr>\n",
       "  </thead>\n",
       "  <tbody>\n",
       "    <tr>\n",
       "      <th>0</th>\n",
       "      <td>2014-11-18</td>\n",
       "      <td>6343</td>\n",
       "    </tr>\n",
       "    <tr>\n",
       "      <th>1</th>\n",
       "      <td>2014-11-19</td>\n",
       "      <td>6420</td>\n",
       "    </tr>\n",
       "    <tr>\n",
       "      <th>2</th>\n",
       "      <td>2014-11-20</td>\n",
       "      <td>6333</td>\n",
       "    </tr>\n",
       "    <tr>\n",
       "      <th>3</th>\n",
       "      <td>2014-11-21</td>\n",
       "      <td>6276</td>\n",
       "    </tr>\n",
       "    <tr>\n",
       "      <th>4</th>\n",
       "      <td>2014-11-22</td>\n",
       "      <td>6187</td>\n",
       "    </tr>\n",
       "  </tbody>\n",
       "</table>\n",
       "</div>"
      ]
     },
     "execution_count": 10,
     "metadata": {},
     "output_type": "execute_result"
    }
   ],
   "execution_count": 10
  },
  {
   "cell_type": "code",
   "metadata": {
    "ExecuteTime": {
     "end_time": "2025-08-24T01:40:05.477213Z",
     "start_time": "2025-08-24T01:40:04.939667Z"
    }
   },
   "source": [
    "# 可视化\n",
    "\n",
    "fig, axes = plt.subplots(2, 1)\n",
    "axes[0].plot(pv_daily[\"date\"], pv_daily[\"pv_daily\"], color=\"C0\", label='pv_daily')\n",
    "axes[0].set_title(\"pv_daily\")\n",
    "axes[0].grid(True, linestyle=\"--\", alpha=0.6)\n",
    "axes[0].legend()\n",
    "\n",
    "axes[1].plot(uv_daily[\"date\"], uv_daily[\"uv_daily\"], color=\"C1\", label='uv_daily')\n",
    "axes[1].set_title(\"uv_daily\")\n",
    "axes[1].grid(True, linestyle=\"--\", alpha=0.6)\n",
    "axes[1].legend()\n",
    "\n",
    "locator = mdates.AutoDateLocator()       # 自动间隔\n",
    "formatter = mdates.ConciseDateFormatter(locator)  # 简洁日期格式\n",
    "for ax in axes:\n",
    "    ax.xaxis.set_major_locator(locator)\n",
    "    ax.xaxis.set_major_formatter(formatter)\n",
    "\n",
    "plt.tight_layout()\n",
    "plt.show()"
   ],
   "outputs": [
    {
     "data": {
      "text/plain": [
       "<Figure size 432x288 with 2 Axes>"
      ],
      "image/png": "[encoded data removed]"
     },
     "metadata": {},
     "output_type": "display_data"
    }
   ],
   "execution_count": 11
  },
  {
   "metadata": {},
   "cell_type": "markdown",
   "source": "12号时出现尖峰，这是双十二大促用户集中消费导致的结果"
  },
  {
   "cell_type": "markdown",
   "metadata": {},
   "source": [
    "### 基于小时级别"
   ]
  },
  {
   "cell_type": "code",
   "metadata": {
    "ExecuteTime": {
     "end_time": "2025-08-24T01:40:11.479460Z",
     "start_time": "2025-08-24T01:40:10.884822Z"
    }
   },
   "source": [
    "# 访问量\n",
    "pv_hour = data_user.groupby('hour')['user_id'].count()\n",
    "pv_hour = pv_hour.reset_index()\n",
    "pv_hour = pv_hour.rename(columns={'user_id': 'pv_hour'})\n",
    "pv_hour.head()"
   ],
   "outputs": [
    {
     "data": {
      "text/plain": [
       "   hour  pv_hour\n",
       "0     0   517404\n",
       "1     1   267682\n",
       "2     2   147090\n",
       "3     3    98516\n",
       "4     4    80487"
      ],
      "text/html": [
       "<div>\n",
       "<style scoped>\n",
       "    .dataframe tbody tr th:only-of-type {\n",
       "        vertical-align: middle;\n",
       "    }\n",
       "\n",
       "    .dataframe tbody tr th {\n",
       "        vertical-align: top;\n",
       "    }\n",
       "\n",
       "    .dataframe thead th {\n",
       "        text-align: right;\n",
       "    }\n",
       "</style>\n",
       "<table border=\"1\" class=\"dataframe\">\n",
       "  <thead>\n",
       "    <tr style=\"text-align: right;\">\n",
       "      <th></th>\n",
       "      <th>hour</th>\n",
       "      <th>pv_hour</th>\n",
       "    </tr>\n",
       "  </thead>\n",
       "  <tbody>\n",
       "    <tr>\n",
       "      <th>0</th>\n",
       "      <td>0</td>\n",
       "      <td>517404</td>\n",
       "    </tr>\n",
       "    <tr>\n",
       "      <th>1</th>\n",
       "      <td>1</td>\n",
       "      <td>267682</td>\n",
       "    </tr>\n",
       "    <tr>\n",
       "      <th>2</th>\n",
       "      <td>2</td>\n",
       "      <td>147090</td>\n",
       "    </tr>\n",
       "    <tr>\n",
       "      <th>3</th>\n",
       "      <td>3</td>\n",
       "      <td>98516</td>\n",
       "    </tr>\n",
       "    <tr>\n",
       "      <th>4</th>\n",
       "      <td>4</td>\n",
       "      <td>80487</td>\n",
       "    </tr>\n",
       "  </tbody>\n",
       "</table>\n",
       "</div>"
      ]
     },
     "execution_count": 12,
     "metadata": {},
     "output_type": "execute_result"
    }
   ],
   "execution_count": 12
  },
  {
   "cell_type": "code",
   "metadata": {
    "ExecuteTime": {
     "end_time": "2025-08-24T01:40:15.280154Z",
     "start_time": "2025-08-24T01:40:12.536341Z"
    }
   },
   "source": [
    "# 独立访问量\n",
    "uv_hour = data_user.groupby('hour')['user_id'].apply(lambda x: len(x.unique()))\n",
    "uv_hour = uv_hour.reset_index()\n",
    "uv_hour = uv_hour.rename(columns={'user_id': 'uv_hour'})\n",
    "uv_hour.head()"
   ],
   "outputs": [
    {
     "data": {
      "text/plain": [
       "   hour  uv_hour\n",
       "0     0     5786\n",
       "1     1     3780\n",
       "2     2     2532\n",
       "3     3     1937\n",
       "4     4     1765"
      ],
      "text/html": [
       "<div>\n",
       "<style scoped>\n",
       "    .dataframe tbody tr th:only-of-type {\n",
       "        vertical-align: middle;\n",
       "    }\n",
       "\n",
       "    .dataframe tbody tr th {\n",
       "        vertical-align: top;\n",
       "    }\n",
       "\n",
       "    .dataframe thead th {\n",
       "        text-align: right;\n",
       "    }\n",
       "</style>\n",
       "<table border=\"1\" class=\"dataframe\">\n",
       "  <thead>\n",
       "    <tr style=\"text-align: right;\">\n",
       "      <th></th>\n",
       "      <th>hour</th>\n",
       "      <th>uv_hour</th>\n",
       "    </tr>\n",
       "  </thead>\n",
       "  <tbody>\n",
       "    <tr>\n",
       "      <th>0</th>\n",
       "      <td>0</td>\n",
       "      <td>5786</td>\n",
       "    </tr>\n",
       "    <tr>\n",
       "      <th>1</th>\n",
       "      <td>1</td>\n",
       "      <td>3780</td>\n",
       "    </tr>\n",
       "    <tr>\n",
       "      <th>2</th>\n",
       "      <td>2</td>\n",
       "      <td>2532</td>\n",
       "    </tr>\n",
       "    <tr>\n",
       "      <th>3</th>\n",
       "      <td>3</td>\n",
       "      <td>1937</td>\n",
       "    </tr>\n",
       "    <tr>\n",
       "      <th>4</th>\n",
       "      <td>4</td>\n",
       "      <td>1765</td>\n",
       "    </tr>\n",
       "  </tbody>\n",
       "</table>\n",
       "</div>"
      ]
     },
     "execution_count": 13,
     "metadata": {},
     "output_type": "execute_result"
    }
   ],
   "execution_count": 13
  },
  {
   "cell_type": "code",
   "metadata": {
    "ExecuteTime": {
     "end_time": "2025-08-24T01:40:16.726061Z",
     "start_time": "2025-08-24T01:40:16.346080Z"
    }
   },
   "source": [
    "# 可视化\n",
    "import matplotlib.dates as mdates\n",
    "\n",
    "fig,axes = plt.subplots(2,1)\n",
    "\n",
    "axes[0].plot(pv_hour['hour'], pv_hour['pv_hour'], color='C0',label='pv_hour')\n",
    "axes[0].set_title('pv_hour')\n",
    "axes[0].grid(True, linestyle='--',alpha=0.6)\n",
    "axes[0].legend()\n",
    "\n",
    "axes[1].plot(uv_hour['hour'], uv_hour['uv_hour'], color='C1',label='uv_hour')\n",
    "axes[1].set_title('uv_hour')\n",
    "axes[1].grid(True, linestyle='--',alpha=0.6)\n",
    "axes[1].legend()\n",
    "\n",
    "plt.tight_layout()\n",
    "plt.show()"
   ],
   "outputs": [
    {
     "data": {
      "text/plain": [
       "<Figure size 432x288 with 2 Axes>"
      ],
      "image/png": "[encoded data removed]"
     },
     "metadata": {},
     "output_type": "display_data"
    }
   ],
   "execution_count": 14
  },
  {
   "metadata": {},
   "cell_type": "markdown",
   "source": "PV的高峰值出现在20点之后，可能是因为主力消费人群是工薪阶层，这部分群体在下班后开始浏览购物；UV的值比较恒定，上午10点之后便没有出现大的波动，一个可能的原因是用户早晨也会刷一下，比如看看物流状态，UV值在一天之内就不会再有大的变化波动了。 另外也可以看出，凌晨2点之后，PV/UV的趋势一致，均是一天中流量最小的时间段。"
  },
  {
   "cell_type": "code",
   "metadata": {
    "ExecuteTime": {
     "end_time": "2025-08-24T01:40:19.731349Z",
     "start_time": "2025-08-24T01:40:19.423394Z"
    }
   },
   "source": [
    "# 双十二当天的用户访问数据\n",
    "data_user_1212 = data_user.loc[(data_user['month']==12) & (data_user['day']==12)]\n",
    "data_user_1212.head()"
   ],
   "outputs": [
    {
     "data": {
      "text/plain": [
       "      user_id    item_id  behavior_type item_category           time  \\\n",
       "13  101260672  212072908              1         10984  2014-12-12 11   \n",
       "20  101781721   19349307              1          1863  2014-12-12 12   \n",
       "54  100684618   94486594              1         10984  2014-12-12 23   \n",
       "69  103802946  190848347              1          5232  2014-12-12 22   \n",
       "95  104811265  354843735              1         10585  2014-12-12 21   \n",
       "\n",
       "         date  year  month  day  hour  \n",
       "13 2014-12-12  2014     12   12    11  \n",
       "20 2014-12-12  2014     12   12    12  \n",
       "54 2014-12-12  2014     12   12    23  \n",
       "69 2014-12-12  2014     12   12    22  \n",
       "95 2014-12-12  2014     12   12    21  "
      ],
      "text/html": [
       "<div>\n",
       "<style scoped>\n",
       "    .dataframe tbody tr th:only-of-type {\n",
       "        vertical-align: middle;\n",
       "    }\n",
       "\n",
       "    .dataframe tbody tr th {\n",
       "        vertical-align: top;\n",
       "    }\n",
       "\n",
       "    .dataframe thead th {\n",
       "        text-align: right;\n",
       "    }\n",
       "</style>\n",
       "<table border=\"1\" class=\"dataframe\">\n",
       "  <thead>\n",
       "    <tr style=\"text-align: right;\">\n",
       "      <th></th>\n",
       "      <th>user_id</th>\n",
       "      <th>item_id</th>\n",
       "      <th>behavior_type</th>\n",
       "      <th>item_category</th>\n",
       "      <th>time</th>\n",
       "      <th>date</th>\n",
       "      <th>year</th>\n",
       "      <th>month</th>\n",
       "      <th>day</th>\n",
       "      <th>hour</th>\n",
       "    </tr>\n",
       "  </thead>\n",
       "  <tbody>\n",
       "    <tr>\n",
       "      <th>13</th>\n",
       "      <td>101260672</td>\n",
       "      <td>212072908</td>\n",
       "      <td>1</td>\n",
       "      <td>10984</td>\n",
       "      <td>2014-12-12 11</td>\n",
       "      <td>2014-12-12</td>\n",
       "      <td>2014</td>\n",
       "      <td>12</td>\n",
       "      <td>12</td>\n",
       "      <td>11</td>\n",
       "    </tr>\n",
       "    <tr>\n",
       "      <th>20</th>\n",
       "      <td>101781721</td>\n",
       "      <td>19349307</td>\n",
       "      <td>1</td>\n",
       "      <td>1863</td>\n",
       "      <td>2014-12-12 12</td>\n",
       "      <td>2014-12-12</td>\n",
       "      <td>2014</td>\n",
       "      <td>12</td>\n",
       "      <td>12</td>\n",
       "      <td>12</td>\n",
       "    </tr>\n",
       "    <tr>\n",
       "      <th>54</th>\n",
       "      <td>100684618</td>\n",
       "      <td>94486594</td>\n",
       "      <td>1</td>\n",
       "      <td>10984</td>\n",
       "      <td>2014-12-12 23</td>\n",
       "      <td>2014-12-12</td>\n",
       "      <td>2014</td>\n",
       "      <td>12</td>\n",
       "      <td>12</td>\n",
       "      <td>23</td>\n",
       "    </tr>\n",
       "    <tr>\n",
       "      <th>69</th>\n",
       "      <td>103802946</td>\n",
       "      <td>190848347</td>\n",
       "      <td>1</td>\n",
       "      <td>5232</td>\n",
       "      <td>2014-12-12 22</td>\n",
       "      <td>2014-12-12</td>\n",
       "      <td>2014</td>\n",
       "      <td>12</td>\n",
       "      <td>12</td>\n",
       "      <td>22</td>\n",
       "    </tr>\n",
       "    <tr>\n",
       "      <th>95</th>\n",
       "      <td>104811265</td>\n",
       "      <td>354843735</td>\n",
       "      <td>1</td>\n",
       "      <td>10585</td>\n",
       "      <td>2014-12-12 21</td>\n",
       "      <td>2014-12-12</td>\n",
       "      <td>2014</td>\n",
       "      <td>12</td>\n",
       "      <td>12</td>\n",
       "      <td>21</td>\n",
       "    </tr>\n",
       "  </tbody>\n",
       "</table>\n",
       "</div>"
      ]
     },
     "execution_count": 15,
     "metadata": {},
     "output_type": "execute_result"
    }
   ],
   "execution_count": 15
  },
  {
   "cell_type": "code",
   "metadata": {
    "ExecuteTime": {
     "end_time": "2025-08-24T01:43:08.719571Z",
     "start_time": "2025-08-24T01:43:08.636457Z"
    }
   },
   "source": [
    "# 双十二当天每小时访问量\n",
    "pv_hour_1212 = data_user_1212.groupby('hour')['user_id'].count()\n",
    "pv_hour_1212 = pv_hour_1212.reset_index()\n",
    "pv_hour_1212 = pv_hour_1212.rename(columns={'user_id':'pv_hour_1212'})\n",
    "pv_hour_1212.head()"
   ],
   "outputs": [
    {
     "data": {
      "text/plain": [
       "   hour  pv_hour_1212\n",
       "0     0         50030\n",
       "1     1         22761\n",
       "2     2         11754\n",
       "3     3          6173\n",
       "4     4          5168"
      ],
      "text/html": [
       "<div>\n",
       "<style scoped>\n",
       "    .dataframe tbody tr th:only-of-type {\n",
       "        vertical-align: middle;\n",
       "    }\n",
       "\n",
       "    .dataframe tbody tr th {\n",
       "        vertical-align: top;\n",
       "    }\n",
       "\n",
       "    .dataframe thead th {\n",
       "        text-align: right;\n",
       "    }\n",
       "</style>\n",
       "<table border=\"1\" class=\"dataframe\">\n",
       "  <thead>\n",
       "    <tr style=\"text-align: right;\">\n",
       "      <th></th>\n",
       "      <th>hour</th>\n",
       "      <th>pv_hour_1212</th>\n",
       "    </tr>\n",
       "  </thead>\n",
       "  <tbody>\n",
       "    <tr>\n",
       "      <th>0</th>\n",
       "      <td>0</td>\n",
       "      <td>50030</td>\n",
       "    </tr>\n",
       "    <tr>\n",
       "      <th>1</th>\n",
       "      <td>1</td>\n",
       "      <td>22761</td>\n",
       "    </tr>\n",
       "    <tr>\n",
       "      <th>2</th>\n",
       "      <td>2</td>\n",
       "      <td>11754</td>\n",
       "    </tr>\n",
       "    <tr>\n",
       "      <th>3</th>\n",
       "      <td>3</td>\n",
       "      <td>6173</td>\n",
       "    </tr>\n",
       "    <tr>\n",
       "      <th>4</th>\n",
       "      <td>4</td>\n",
       "      <td>5168</td>\n",
       "    </tr>\n",
       "  </tbody>\n",
       "</table>\n",
       "</div>"
      ]
     },
     "execution_count": 19,
     "metadata": {},
     "output_type": "execute_result"
    }
   ],
   "execution_count": 19
  },
  {
   "metadata": {
    "ExecuteTime": {
     "end_time": "2025-08-24T01:42:32.580030Z",
     "start_time": "2025-08-24T01:42:32.331399Z"
    }
   },
   "cell_type": "code",
   "source": [
    "# 双十二当天每小时独立访问量\n",
    "uv_hour_1212 = data_user_1212.groupby('hour')['user_id'].apply(lambda x: len(x.unique()))\n",
    "uv_hour_1212 = uv_hour_1212.reset_index()\n",
    "uv_hour_1212 = uv_hour_1212.rename(columns={'user_id':'uv_hour_1212'})\n",
    "uv_hour_1212.head()"
   ],
   "outputs": [
    {
     "data": {
      "text/plain": [
       "   hour  uv_hour_1212\n",
       "0     0          1569\n",
       "1     1           811\n",
       "2     2           411\n",
       "3     3           255\n",
       "4     4           211"
      ],
      "text/html": [
       "<div>\n",
       "<style scoped>\n",
       "    .dataframe tbody tr th:only-of-type {\n",
       "        vertical-align: middle;\n",
       "    }\n",
       "\n",
       "    .dataframe tbody tr th {\n",
       "        vertical-align: top;\n",
       "    }\n",
       "\n",
       "    .dataframe thead th {\n",
       "        text-align: right;\n",
       "    }\n",
       "</style>\n",
       "<table border=\"1\" class=\"dataframe\">\n",
       "  <thead>\n",
       "    <tr style=\"text-align: right;\">\n",
       "      <th></th>\n",
       "      <th>hour</th>\n",
       "      <th>uv_hour_1212</th>\n",
       "    </tr>\n",
       "  </thead>\n",
       "  <tbody>\n",
       "    <tr>\n",
       "      <th>0</th>\n",
       "      <td>0</td>\n",
       "      <td>1569</td>\n",
       "    </tr>\n",
       "    <tr>\n",
       "      <th>1</th>\n",
       "      <td>1</td>\n",
       "      <td>811</td>\n",
       "    </tr>\n",
       "    <tr>\n",
       "      <th>2</th>\n",
       "      <td>2</td>\n",
       "      <td>411</td>\n",
       "    </tr>\n",
       "    <tr>\n",
       "      <th>3</th>\n",
       "      <td>3</td>\n",
       "      <td>255</td>\n",
       "    </tr>\n",
       "    <tr>\n",
       "      <th>4</th>\n",
       "      <td>4</td>\n",
       "      <td>211</td>\n",
       "    </tr>\n",
       "  </tbody>\n",
       "</table>\n",
       "</div>"
      ]
     },
     "execution_count": 17,
     "metadata": {},
     "output_type": "execute_result"
    }
   ],
   "execution_count": 17
  },
  {
   "metadata": {
    "ExecuteTime": {
     "end_time": "2025-08-24T01:43:55.126914Z",
     "start_time": "2025-08-24T01:43:54.643060Z"
    }
   },
   "cell_type": "code",
   "source": [
    "# 可视化\n",
    "fig,axes = plt.subplots(2,1)\n",
    "axes[0].plot(pv_hour_1212['hour'], pv_hour_1212['pv_hour_1212'], color='C0',label='pv_hour_1212')\n",
    "axes[0].set_title('pv_hour_1212')\n",
    "axes[0].grid(True, linestyle='--',alpha=0.6)\n",
    "axes[0].legend()\n",
    "axes[1].plot(uv_hour_1212['hour'], uv_hour_1212['uv_hour_1212'], color='C1',label='uv_hour_1212')\n",
    "axes[1].set_title('uv_hour_1212')\n",
    "axes[1].grid(True, linestyle='--',alpha=0.6)\n",
    "axes[1].legend()\n",
    "plt.tight_layout()\n",
    "plt.show()"
   ],
   "outputs": [
    {
     "data": {
      "text/plain": [
       "<Figure size 432x288 with 2 Axes>"
      ],
      "image/png": "[encoded data removed]"
     },
     "metadata": {},
     "output_type": "display_data"
    }
   ],
   "execution_count": 20
  },
  {
   "metadata": {},
   "cell_type": "markdown",
   "source": "双十二当天，PV变化趋与一个月内的PV变化趋势基本一致，只不过曲线不太平滑，多出来小的凸点，一个可能的原因是大促当天，有整点领券活动，通过推送等形式会有效拉动用户使用淘宝。UV变化趋势稍有不同，可以看到双十二当天在晚上8点之后UV出现了小高峰，表明了大促当天用户的消费意愿还是比较强烈。"
  },
  {
   "metadata": {},
   "cell_type": "markdown",
   "source": "# 用户行为分析"
  },
  {
   "metadata": {
    "ExecuteTime": {
     "end_time": "2025-08-24T01:51:51.327691Z",
     "start_time": "2025-08-24T01:51:49.805071Z"
    }
   },
   "cell_type": "code",
   "source": [
    "pv_behavior = data_user.groupby(['behavior_type', 'hour'])['user_id'].count()\n",
    "pv_behavior = pv_behavior.reset_index()\n",
    "pv_behavior = pv_behavior.rename(columns={'user_id':'pv_behavior'})\n",
    "pv_behavior.head()"
   ],
   "outputs": [
    {
     "data": {
      "text/plain": [
       "   behavior_type  hour  pv_behavior\n",
       "0              1     0       487341\n",
       "1              1     1       252991\n",
       "2              1     2       139139\n",
       "3              1     3        93250\n",
       "4              1     4        75832"
      ],
      "text/html": [
       "<div>\n",
       "<style scoped>\n",
       "    .dataframe tbody tr th:only-of-type {\n",
       "        vertical-align: middle;\n",
       "    }\n",
       "\n",
       "    .dataframe tbody tr th {\n",
       "        vertical-align: top;\n",
       "    }\n",
       "\n",
       "    .dataframe thead th {\n",
       "        text-align: right;\n",
       "    }\n",
       "</style>\n",
       "<table border=\"1\" class=\"dataframe\">\n",
       "  <thead>\n",
       "    <tr style=\"text-align: right;\">\n",
       "      <th></th>\n",
       "      <th>behavior_type</th>\n",
       "      <th>hour</th>\n",
       "      <th>pv_behavior</th>\n",
       "    </tr>\n",
       "  </thead>\n",
       "  <tbody>\n",
       "    <tr>\n",
       "      <th>0</th>\n",
       "      <td>1</td>\n",
       "      <td>0</td>\n",
       "      <td>487341</td>\n",
       "    </tr>\n",
       "    <tr>\n",
       "      <th>1</th>\n",
       "      <td>1</td>\n",
       "      <td>1</td>\n",
       "      <td>252991</td>\n",
       "    </tr>\n",
       "    <tr>\n",
       "      <th>2</th>\n",
       "      <td>1</td>\n",
       "      <td>2</td>\n",
       "      <td>139139</td>\n",
       "    </tr>\n",
       "    <tr>\n",
       "      <th>3</th>\n",
       "      <td>1</td>\n",
       "      <td>3</td>\n",
       "      <td>93250</td>\n",
       "    </tr>\n",
       "    <tr>\n",
       "      <th>4</th>\n",
       "      <td>1</td>\n",
       "      <td>4</td>\n",
       "      <td>75832</td>\n",
       "    </tr>\n",
       "  </tbody>\n",
       "</table>\n",
       "</div>"
      ]
     },
     "execution_count": 22,
     "metadata": {},
     "output_type": "execute_result"
    }
   ],
   "execution_count": 22
  },
  {
   "metadata": {
    "ExecuteTime": {
     "end_time": "2025-08-24T01:52:34.354557Z",
     "start_time": "2025-08-24T01:52:33.992350Z"
    }
   },
   "cell_type": "code",
   "source": [
    "# 可视化\n",
    "ax = sns.lineplot(x='hour',y='pv_behavior',hue='behavior_type',data=pv_behavior)"
   ],
   "outputs": [
    {
     "data": {
      "text/plain": [
       "<Figure size 432x288 with 1 Axes>"
      ],
      "image/png": "[encoded data removed]"
     },
     "metadata": {},
     "output_type": "display_data"
    }
   ],
   "execution_count": 23
  },
  {
   "metadata": {},
   "cell_type": "markdown",
   "source": "action_type为1（浏览行为）的占比非常大，导致上图其它几类action的趋势不太明显，因此去掉action_type为1的数据后再进行分析："
  },
  {
   "metadata": {
    "ExecuteTime": {
     "end_time": "2025-08-24T01:53:10.885103Z",
     "start_time": "2025-08-24T01:53:10.614455Z"
    }
   },
   "cell_type": "code",
   "source": "sns.lineplot(x='hour',y='pv_behavior',hue='behavior_type',data=pv_behavior[pv_behavior.behavior_type!=1])",
   "outputs": [
    {
     "data": {
      "text/plain": [
       "<matplotlib.axes._subplots.AxesSubplot at 0x28fa5740b48>"
      ]
     },
     "execution_count": 24,
     "metadata": {},
     "output_type": "execute_result"
    },
    {
     "data": {
      "text/plain": [
       "<Figure size 432x288 with 1 Axes>"
      ],
      "image/png": "[encoded data removed]"
     },
     "metadata": {},
     "output_type": "display_data"
    }
   ],
   "execution_count": 24
  },
  {
   "metadata": {},
   "cell_type": "markdown",
   "source": "4种行为按照小时的变化趋势基本一致，都是在晚上8点之后有明显增长，凌晨2-6点是低峰，符合常识。"
  },
  {
   "metadata": {
    "ExecuteTime": {
     "end_time": "2025-08-24T02:42:19.638199Z",
     "start_time": "2025-08-24T02:42:18.289377Z"
    }
   },
   "cell_type": "code",
   "source": [
    "# 双十二当天用户行为分析\n",
    "pv_behavior_1212 = data_user_1212.groupby(['behavior_type', 'hour'])['user_id'].count()\n",
    "pv_behavior_1212 = pv_behavior_1212.reset_index()\n",
    "pv_behavior_1212 = pv_behavior_1212.rename(columns={'user_id':'pv_behavior_1212'})\n",
    "pv_behavior_1212.head()"
   ],
   "outputs": [
    {
     "data": {
      "text/plain": [
       "   behavior_type  hour  pv_behavior_1212\n",
       "0              1     0             45229\n",
       "1              1     1             20988\n",
       "2              1     2             10896\n",
       "3              1     3              5762\n",
       "4              1     4              4827"
      ],
      "text/html": [
       "<div>\n",
       "<style scoped>\n",
       "    .dataframe tbody tr th:only-of-type {\n",
       "        vertical-align: middle;\n",
       "    }\n",
       "\n",
       "    .dataframe tbody tr th {\n",
       "        vertical-align: top;\n",
       "    }\n",
       "\n",
       "    .dataframe thead th {\n",
       "        text-align: right;\n",
       "    }\n",
       "</style>\n",
       "<table border=\"1\" class=\"dataframe\">\n",
       "  <thead>\n",
       "    <tr style=\"text-align: right;\">\n",
       "      <th></th>\n",
       "      <th>behavior_type</th>\n",
       "      <th>hour</th>\n",
       "      <th>pv_behavior_1212</th>\n",
       "    </tr>\n",
       "  </thead>\n",
       "  <tbody>\n",
       "    <tr>\n",
       "      <th>0</th>\n",
       "      <td>1</td>\n",
       "      <td>0</td>\n",
       "      <td>45229</td>\n",
       "    </tr>\n",
       "    <tr>\n",
       "      <th>1</th>\n",
       "      <td>1</td>\n",
       "      <td>1</td>\n",
       "      <td>20988</td>\n",
       "    </tr>\n",
       "    <tr>\n",
       "      <th>2</th>\n",
       "      <td>1</td>\n",
       "      <td>2</td>\n",
       "      <td>10896</td>\n",
       "    </tr>\n",
       "    <tr>\n",
       "      <th>3</th>\n",
       "      <td>1</td>\n",
       "      <td>3</td>\n",
       "      <td>5762</td>\n",
       "    </tr>\n",
       "    <tr>\n",
       "      <th>4</th>\n",
       "      <td>1</td>\n",
       "      <td>4</td>\n",
       "      <td>4827</td>\n",
       "    </tr>\n",
       "  </tbody>\n",
       "</table>\n",
       "</div>"
      ]
     },
     "execution_count": 49,
     "metadata": {},
     "output_type": "execute_result"
    }
   ],
   "execution_count": 49
  },
  {
   "metadata": {
    "ExecuteTime": {
     "end_time": "2025-08-24T02:42:35.776647Z",
     "start_time": "2025-08-24T02:42:35.494702Z"
    }
   },
   "cell_type": "code",
   "source": [
    "# 可视化\n",
    "sns.lineplot(x='hour',y='pv_behavior_1212',hue='behavior_type',data=pv_behavior_1212)"
   ],
   "outputs": [
    {
     "data": {
      "text/plain": [
       "<matplotlib.axes._subplots.AxesSubplot at 0x28fb1cb3d48>"
      ]
     },
     "execution_count": 50,
     "metadata": {},
     "output_type": "execute_result"
    },
    {
     "data": {
      "text/plain": [
       "<Figure size 432x288 with 1 Axes>"
      ],
      "image/png": "[encoded data removed]"
     },
     "metadata": {},
     "output_type": "display_data"
    }
   ],
   "execution_count": 50
  },
  {
   "metadata": {
    "ExecuteTime": {
     "end_time": "2025-08-24T02:42:56.116502Z",
     "start_time": "2025-08-24T02:42:55.860387Z"
    }
   },
   "cell_type": "code",
   "source": "sns.lineplot(x='hour',y='pv_behavior_1212',hue='behavior_type',data=pv_behavior_1212[pv_behavior_1212.behavior_type!=1])",
   "outputs": [
    {
     "data": {
      "text/plain": [
       "<matplotlib.axes._subplots.AxesSubplot at 0x28fb1d0b288>"
      ]
     },
     "execution_count": 51,
     "metadata": {},
     "output_type": "execute_result"
    },
    {
     "data": {
      "text/plain": [
       "<Figure size 432x288 with 1 Axes>"
      ],
      "image/png": "[encoded data removed]"
     },
     "metadata": {},
     "output_type": "display_data"
    }
   ],
   "execution_count": 51
  },
  {
   "metadata": {},
   "cell_type": "markdown",
   "source": "# 转化率分析"
  },
  {
   "metadata": {
    "ExecuteTime": {
     "end_time": "2025-08-24T02:06:54.595051Z",
     "start_time": "2025-08-24T02:06:53.872111Z"
    }
   },
   "cell_type": "code",
   "source": [
    "behavior_type = data_user.groupby(['behavior_type'])['user_id'].count()\n",
    "behavior_type.head()"
   ],
   "outputs": [
    {
     "data": {
      "text/plain": [
       "behavior_type\n",
       "1    11550581\n",
       "2      242556\n",
       "3      343564\n",
       "4      120205\n",
       "Name: user_id, dtype: int64"
      ]
     },
     "execution_count": 26,
     "metadata": {},
     "output_type": "execute_result"
    }
   ],
   "execution_count": 26
  },
  {
   "metadata": {},
   "cell_type": "markdown",
   "source": "用户浏览（action_type=1）的基数是最大的，因为加购和收藏没有必然联系，因此把这两类合并在一起做分析："
  },
  {
   "metadata": {
    "ExecuteTime": {
     "end_time": "2025-08-24T02:07:32.997033Z",
     "start_time": "2025-08-24T02:07:32.965030Z"
    }
   },
   "cell_type": "code",
   "source": [
    "click_num, fav_num, add_num, pay_num =  behavior_type[1], behavior_type[2], behavior_type[3], behavior_type[4]\n",
    "\n",
    "fav_add_num = fav_num + add_num \n",
    "print('加购/收藏转化率：', 100 * fav_add_num / click_num)\n",
    "print('点击 到 购买转化率: ', 100 * pay_num / click_num)\n",
    "print('加购/收藏 到 购买转化率: ', 100 * pay_num / fav_add_num)"
   ],
   "outputs": [
    {
     "name": "stdout",
     "output_type": "stream",
     "text": [
      "加购/收藏转化率： 5.074376778103197\n",
      "点击 到 购买转化率:  1.0406835811982098\n",
      "加购/收藏 到 购买转化率:  20.508598921722513\n"
     ]
    }
   ],
   "execution_count": 27
  },
  {
   "metadata": {},
   "cell_type": "markdown",
   "source": "从浏览到加购/收藏的转化率大约5%；“加购/收藏”后到购买转化率大约为20%，说明用户感兴趣的商品更容易成单。 两者相乘，能粗略估出从浏览到购买的转化率约为1%左右。"
  },
  {
   "metadata": {
    "ExecuteTime": {
     "end_time": "2025-08-24T02:08:46.211620Z",
     "start_time": "2025-08-24T02:08:46.079022Z"
    }
   },
   "cell_type": "code",
   "source": [
    "behavior_type_1212 = data_user_1212.groupby(['behavior_type'])['user_id'].count()\n",
    "click_num, fav_num, add_num, pay_num =  behavior_type_1212[1], behavior_type_1212[2], behavior_type_1212[3], behavior_type_1212[4]\n",
    "\n",
    "fav_add_num = fav_num + add_num \n",
    "print('加购/收藏转化率：', 100 * fav_add_num / click_num)\n",
    "print('点击 到 购买转化率: ', 100 * pay_num / click_num)\n",
    "print('加购/收藏 到 购买转化率: ', 100 * pay_num / fav_add_num)"
   ],
   "outputs": [
    {
     "name": "stdout",
     "output_type": "stream",
     "text": [
      "加购/收藏转化率： 5.448732437837779\n",
      "点击 到 购买转化率:  2.3773707847303305\n",
      "加购/收藏 到 购买转化率:  43.631630142472964\n"
     ]
    }
   ],
   "execution_count": 28
  },
  {
   "metadata": {},
   "cell_type": "markdown",
   "source": [
    "双十二当天，加购/收藏到购买转化率是平时的2倍之多，此外，加购/收藏的转化率也比平时高出不少，说明大促的运营活动对用户活跃度的转化起到了很好的促进作用。\n",
    "商家在特定节日推出特定主题的优惠活动，是个有效的促活、转化的方式。"
   ]
  },
  {
   "metadata": {},
   "cell_type": "markdown",
   "source": "# 用户价值分析"
  },
  {
   "metadata": {},
   "cell_type": "markdown",
   "source": "## 购买频次分析"
  },
  {
   "metadata": {
    "ExecuteTime": {
     "end_time": "2025-08-24T02:11:23.206893Z",
     "start_time": "2025-08-24T02:11:16.045699Z"
    }
   },
   "cell_type": "code",
   "source": [
    "data_user_buy = data_user[data_user.behavior_type==4].groupby('user_id')['behavior_type'].count()\n",
    "data_user_buy.head()"
   ],
   "outputs": [
    {
     "data": {
      "text/plain": [
       "user_id\n",
       "4913      6\n",
       "6118      1\n",
       "7528      6\n",
       "7591     21\n",
       "12645     8\n",
       "Name: behavior_type, dtype: int64"
      ]
     },
     "execution_count": 29,
     "metadata": {},
     "output_type": "execute_result"
    }
   ],
   "execution_count": 29
  },
  {
   "metadata": {
    "ExecuteTime": {
     "end_time": "2025-08-24T02:11:39.555045Z",
     "start_time": "2025-08-24T02:11:39.281256Z"
    }
   },
   "cell_type": "code",
   "source": [
    "# 可视化\n",
    "data_user_buy.plot(x='user_id',y='buy_count')"
   ],
   "outputs": [
    {
     "data": {
      "text/plain": [
       "<matplotlib.axes._subplots.AxesSubplot at 0x28fa5315c88>"
      ]
     },
     "execution_count": 30,
     "metadata": {},
     "output_type": "execute_result"
    },
    {
     "data": {
      "text/plain": [
       "<Figure size 432x288 with 1 Axes>"
      ],
      "image/png": "[encoded data removed]"
     },
     "metadata": {},
     "output_type": "display_data"
    }
   ],
   "execution_count": 30
  },
  {
   "metadata": {},
   "cell_type": "markdown",
   "source": "大部分用户的购买次数均不超过50次，这期间还包括了双十二当天的集中购物，排除双十二高峰，实际消费次数会更少。当然也有部分用户的购买次数超过百次，甚至有超过800次的，高频消费的用户可以看作是忠实的超级用户。"
  },
  {
   "metadata": {},
   "cell_type": "markdown",
   "source": "## ARPU分析"
  },
  {
   "metadata": {},
   "cell_type": "markdown",
   "source": [
    "该数据集中没有对金额的体现,因此对ARPU这个指标做一些修改，改为度量平台活跃用户每日平均消费次数。\n",
    "\n",
    "计算公式为： ARPU = 每日消费总次数 / 每日活跃用户数"
   ]
  },
  {
   "metadata": {
    "ExecuteTime": {
     "end_time": "2025-08-24T02:14:32.337614Z",
     "start_time": "2025-08-24T02:14:27.914419Z"
    }
   },
   "cell_type": "code",
   "source": [
    "#给数据集中每一个用户赋值一个1，表示有登录操作\n",
    "data_user['action'] = 1 \n",
    "\n",
    "data_user_arpu = data_user.groupby(['date','user_id','behavior_type'])['action'].count()\n",
    "data_user_arpu = data_user_arpu.reset_index()\n",
    "\n",
    "data_user_arpu.head()"
   ],
   "outputs": [
    {
     "data": {
      "text/plain": [
       "        date  user_id  behavior_type  action\n",
       "0 2014-11-18     4913              1      27\n",
       "1 2014-11-18     4913              2       1\n",
       "2 2014-11-18     7591              1       4\n",
       "3 2014-11-18    12645              1      25\n",
       "4 2014-11-18    54056              1      13"
      ],
      "text/html": [
       "<div>\n",
       "<style scoped>\n",
       "    .dataframe tbody tr th:only-of-type {\n",
       "        vertical-align: middle;\n",
       "    }\n",
       "\n",
       "    .dataframe tbody tr th {\n",
       "        vertical-align: top;\n",
       "    }\n",
       "\n",
       "    .dataframe thead th {\n",
       "        text-align: right;\n",
       "    }\n",
       "</style>\n",
       "<table border=\"1\" class=\"dataframe\">\n",
       "  <thead>\n",
       "    <tr style=\"text-align: right;\">\n",
       "      <th></th>\n",
       "      <th>date</th>\n",
       "      <th>user_id</th>\n",
       "      <th>behavior_type</th>\n",
       "      <th>action</th>\n",
       "    </tr>\n",
       "  </thead>\n",
       "  <tbody>\n",
       "    <tr>\n",
       "      <th>0</th>\n",
       "      <td>2014-11-18</td>\n",
       "      <td>4913</td>\n",
       "      <td>1</td>\n",
       "      <td>27</td>\n",
       "    </tr>\n",
       "    <tr>\n",
       "      <th>1</th>\n",
       "      <td>2014-11-18</td>\n",
       "      <td>4913</td>\n",
       "      <td>2</td>\n",
       "      <td>1</td>\n",
       "    </tr>\n",
       "    <tr>\n",
       "      <th>2</th>\n",
       "      <td>2014-11-18</td>\n",
       "      <td>7591</td>\n",
       "      <td>1</td>\n",
       "      <td>4</td>\n",
       "    </tr>\n",
       "    <tr>\n",
       "      <th>3</th>\n",
       "      <td>2014-11-18</td>\n",
       "      <td>12645</td>\n",
       "      <td>1</td>\n",
       "      <td>25</td>\n",
       "    </tr>\n",
       "    <tr>\n",
       "      <th>4</th>\n",
       "      <td>2014-11-18</td>\n",
       "      <td>54056</td>\n",
       "      <td>1</td>\n",
       "      <td>13</td>\n",
       "    </tr>\n",
       "  </tbody>\n",
       "</table>\n",
       "</div>"
      ]
     },
     "execution_count": 31,
     "metadata": {},
     "output_type": "execute_result"
    }
   ],
   "execution_count": 31
  },
  {
   "metadata": {
    "ExecuteTime": {
     "end_time": "2025-08-24T02:18:50.613662Z",
     "start_time": "2025-08-24T02:18:50.517106Z"
    }
   },
   "cell_type": "code",
   "source": [
    "arpu = data_user_arpu.groupby('date').apply(lambda x:x[x['behavior_type']==4]['action'].sum() / len(x['user_id'].unique()) ) \n",
    "arpu"
   ],
   "outputs": [
    {
     "data": {
      "text/plain": [
       "date\n",
       "2014-11-18    0.588050\n",
       "2014-11-19    0.574143\n",
       "2014-11-20    0.546660\n",
       "2014-11-21    0.481358\n",
       "2014-11-22    0.577016\n",
       "2014-11-23    0.525184\n",
       "2014-11-24    0.526025\n",
       "2014-11-25    0.545426\n",
       "2014-11-26    0.562058\n",
       "2014-11-27    0.577135\n",
       "2014-11-28    0.519955\n",
       "2014-11-29    0.515906\n",
       "2014-11-30    0.566860\n",
       "2014-12-01    0.597341\n",
       "2014-12-02    0.552824\n",
       "2014-12-03    0.589977\n",
       "2014-12-04    0.565151\n",
       "2014-12-05    0.521282\n",
       "2014-12-06    0.508075\n",
       "2014-12-07    0.507007\n",
       "2014-12-08    0.520871\n",
       "2014-12-09    0.525282\n",
       "2014-12-10    0.483464\n",
       "2014-12-11    0.467943\n",
       "2014-12-12    1.975518\n",
       "2014-12-13    0.513282\n",
       "2014-12-14    0.522346\n",
       "2014-12-15    0.554590\n",
       "2014-12-16    0.560410\n",
       "2014-12-17    0.544182\n",
       "2014-12-18    0.544819\n",
       "dtype: float64"
      ]
     },
     "execution_count": 34,
     "metadata": {},
     "output_type": "execute_result"
    }
   ],
   "execution_count": 34
  },
  {
   "metadata": {
    "ExecuteTime": {
     "end_time": "2025-08-24T02:19:26.883869Z",
     "start_time": "2025-08-24T02:19:26.381592Z"
    }
   },
   "cell_type": "code",
   "source": [
    "# 可视化\n",
    "arpu.plot(colormap='cividis')\n",
    "plt.title('ARPU')"
   ],
   "outputs": [
    {
     "data": {
      "text/plain": [
       "Text(0.5, 1.0, 'ARPU')"
      ]
     },
     "execution_count": 35,
     "metadata": {},
     "output_type": "execute_result"
    },
    {
     "data": {
      "text/plain": [
       "<Figure size 432x288 with 1 Axes>"
      ],
      "image/png": "[encoded data removed]"
     },
     "metadata": {},
     "output_type": "display_data"
    }
   ],
   "execution_count": 35
  },
  {
   "metadata": {},
   "cell_type": "markdown",
   "source": "活跃用户每天平均消费次数在0.5次左右，双十二期间达到最高值接近2，是平时的4倍左右，表明用户会集中在大促日的时候购买。"
  },
  {
   "metadata": {
    "ExecuteTime": {
     "end_time": "2025-08-24T02:51:43.822873Z",
     "start_time": "2025-08-24T02:51:43.734159Z"
    }
   },
   "cell_type": "code",
   "source": [
    "order_rate = data_user_arpu.groupby('date').apply(lambda x: x[x['behavior_type']==4]['user_id'].nunique() / x['user_id'].nunique()) \n",
    "order_rate"
   ],
   "outputs": [
    {
     "data": {
      "text/plain": [
       "date\n",
       "2014-11-18    0.242630\n",
       "2014-11-19    0.235358\n",
       "2014-11-20    0.235591\n",
       "2014-11-21    0.211918\n",
       "2014-11-22    0.228059\n",
       "2014-11-23    0.225326\n",
       "2014-11-24    0.233994\n",
       "2014-11-25    0.235711\n",
       "2014-11-26    0.233915\n",
       "2014-11-27    0.240132\n",
       "2014-11-28    0.232994\n",
       "2014-11-29    0.221240\n",
       "2014-11-30    0.240477\n",
       "2014-12-01    0.253209\n",
       "2014-12-02    0.241985\n",
       "2014-12-03    0.257707\n",
       "2014-12-04    0.242689\n",
       "2014-12-05    0.234490\n",
       "2014-12-06    0.225466\n",
       "2014-12-07    0.218468\n",
       "2014-12-08    0.236289\n",
       "2014-12-09    0.217636\n",
       "2014-12-10    0.216777\n",
       "2014-12-11    0.210183\n",
       "2014-12-12    0.504793\n",
       "2014-12-13    0.228601\n",
       "2014-12-14    0.225855\n",
       "2014-12-15    0.239723\n",
       "2014-12-16    0.245207\n",
       "2014-12-17    0.236339\n",
       "2014-12-18    0.235795\n",
       "dtype: float64"
      ]
     },
     "execution_count": 53,
     "metadata": {},
     "output_type": "execute_result"
    }
   ],
   "execution_count": 53
  },
  {
   "metadata": {
    "ExecuteTime": {
     "end_time": "2025-08-24T02:53:13.568574Z",
     "start_time": "2025-08-24T02:53:13.208596Z"
    }
   },
   "cell_type": "code",
   "source": [
    "# 可视化\n",
    "order_rate.plot(colormap='cividis')\n",
    "plt.title('order_rate')"
   ],
   "outputs": [
    {
     "data": {
      "text/plain": [
       "Text(0.5, 1.0, 'order_rate')"
      ]
     },
     "execution_count": 54,
     "metadata": {},
     "output_type": "execute_result"
    },
    {
     "data": {
      "text/plain": [
       "<Figure size 432x288 with 1 Axes>"
      ],
      "image/png": "[encoded data removed]"
     },
     "metadata": {},
     "output_type": "display_data"
    }
   ],
   "execution_count": 54
  },
  {
   "metadata": {},
   "cell_type": "markdown",
   "source": "大部分时候用户下单率不超过25%，在双十二大促这天出现下单率高峰，几乎是平时的两倍，表明用户会集中在大促时进行购买"
  },
  {
   "metadata": {},
   "cell_type": "markdown",
   "source": "## ARPPU分析"
  },
  {
   "metadata": {},
   "cell_type": "markdown",
   "source": [
    "该数据集中没有收益金额，因此对计算方式做一点转化，将总收入转化为总的购买行为次数。\n",
    "\n",
    "定义如下：ARPPU = 当日总消费次数/当日活跃用户付费数量 "
   ]
  },
  {
   "metadata": {
    "ExecuteTime": {
     "end_time": "2025-08-24T02:22:43.932853Z",
     "start_time": "2025-08-24T02:22:43.635238Z"
    }
   },
   "cell_type": "code",
   "source": [
    "data_user_arppu = data_user[data_user.behavior_type==4].groupby(['date','user_id'])['behavior_type'].count()\n",
    "data_user_arppu = data_user_arppu.reset_index()\n",
    "data_user_arppu = data_user_arppu.rename(columns={'behavior_type':'pay_count'})\n",
    "data_user_arppu.head()"
   ],
   "outputs": [
    {
     "data": {
      "text/plain": [
       "        date  user_id  pay_count\n",
       "0 2014-11-18    54056          1\n",
       "1 2014-11-18    79824          2\n",
       "2 2014-11-18    88930          2\n",
       "3 2014-11-18   247543          5\n",
       "4 2014-11-18   475826          3"
      ],
      "text/html": [
       "<div>\n",
       "<style scoped>\n",
       "    .dataframe tbody tr th:only-of-type {\n",
       "        vertical-align: middle;\n",
       "    }\n",
       "\n",
       "    .dataframe tbody tr th {\n",
       "        vertical-align: top;\n",
       "    }\n",
       "\n",
       "    .dataframe thead th {\n",
       "        text-align: right;\n",
       "    }\n",
       "</style>\n",
       "<table border=\"1\" class=\"dataframe\">\n",
       "  <thead>\n",
       "    <tr style=\"text-align: right;\">\n",
       "      <th></th>\n",
       "      <th>date</th>\n",
       "      <th>user_id</th>\n",
       "      <th>pay_count</th>\n",
       "    </tr>\n",
       "  </thead>\n",
       "  <tbody>\n",
       "    <tr>\n",
       "      <th>0</th>\n",
       "      <td>2014-11-18</td>\n",
       "      <td>54056</td>\n",
       "      <td>1</td>\n",
       "    </tr>\n",
       "    <tr>\n",
       "      <th>1</th>\n",
       "      <td>2014-11-18</td>\n",
       "      <td>79824</td>\n",
       "      <td>2</td>\n",
       "    </tr>\n",
       "    <tr>\n",
       "      <th>2</th>\n",
       "      <td>2014-11-18</td>\n",
       "      <td>88930</td>\n",
       "      <td>2</td>\n",
       "    </tr>\n",
       "    <tr>\n",
       "      <th>3</th>\n",
       "      <td>2014-11-18</td>\n",
       "      <td>247543</td>\n",
       "      <td>5</td>\n",
       "    </tr>\n",
       "    <tr>\n",
       "      <th>4</th>\n",
       "      <td>2014-11-18</td>\n",
       "      <td>475826</td>\n",
       "      <td>3</td>\n",
       "    </tr>\n",
       "  </tbody>\n",
       "</table>\n",
       "</div>"
      ]
     },
     "execution_count": 37,
     "metadata": {},
     "output_type": "execute_result"
    }
   ],
   "execution_count": 37
  },
  {
   "metadata": {
    "ExecuteTime": {
     "end_time": "2025-08-24T02:23:41.410166Z",
     "start_time": "2025-08-24T02:23:41.372764Z"
    }
   },
   "cell_type": "code",
   "source": [
    "arppu = data_user_arppu.groupby('date').apply(lambda x:x['pay_count'].sum() / len(x['user_id'].unique()) )\n",
    "arppu"
   ],
   "outputs": [
    {
     "data": {
      "text/plain": [
       "date\n",
       "2014-11-18    2.423652\n",
       "2014-11-19    2.439444\n",
       "2014-11-20    2.320375\n",
       "2014-11-21    2.271429\n",
       "2014-11-22    2.530120\n",
       "2014-11-23    2.330780\n",
       "2014-11-24    2.248031\n",
       "2014-11-25    2.313961\n",
       "2014-11-26    2.402824\n",
       "2014-11-27    2.403405\n",
       "2014-11-28    2.231623\n",
       "2014-11-29    2.331881\n",
       "2014-11-30    2.357236\n",
       "2014-12-01    2.359083\n",
       "2014-12-02    2.284543\n",
       "2014-12-03    2.289334\n",
       "2014-12-04    2.328707\n",
       "2014-12-05    2.223041\n",
       "2014-12-06    2.253444\n",
       "2014-12-07    2.320741\n",
       "2014-12-08    2.204384\n",
       "2014-12-09    2.413576\n",
       "2014-12-10    2.230236\n",
       "2014-12-11    2.226363\n",
       "2014-12-12    3.913523\n",
       "2014-12-13    2.245320\n",
       "2014-12-14    2.312749\n",
       "2014-12-15    2.313460\n",
       "2014-12-16    2.285455\n",
       "2014-12-17    2.302548\n",
       "2014-12-18    2.310567\n",
       "dtype: float64"
      ]
     },
     "execution_count": 38,
     "metadata": {},
     "output_type": "execute_result"
    }
   ],
   "execution_count": 38
  },
  {
   "metadata": {
    "ExecuteTime": {
     "end_time": "2025-08-24T02:24:13.530073Z",
     "start_time": "2025-08-24T02:24:12.640057Z"
    }
   },
   "cell_type": "code",
   "source": [
    "# 可视化\n",
    "arppu.plot(colormap='cividis')\n",
    "plt.title('ARPPU')"
   ],
   "outputs": [
    {
     "data": {
      "text/plain": [
       "Text(0.5, 1.0, 'ARPPU')"
      ]
     },
     "execution_count": 40,
     "metadata": {},
     "output_type": "execute_result"
    },
    {
     "data": {
      "text/plain": [
       "<Figure size 432x288 with 1 Axes>"
      ],
      "image/png": "[encoded data removed]"
     },
     "metadata": {},
     "output_type": "display_data"
    }
   ],
   "execution_count": 40
  },
  {
   "metadata": {},
   "cell_type": "markdown",
   "source": "活跃下单用户平均每日消费次数在2-2.5次之间波动，双十二当天该数值达超过3.75，一个可能的原因是用户会在平时把喜欢的商品进行加购，等到双十二促销当天再下单购买。"
  },
  {
   "metadata": {},
   "cell_type": "markdown",
   "source": "## 复购情况分析"
  },
  {
   "metadata": {},
   "cell_type": "markdown",
   "source": [
    "复购是指：两天以上都在该平台产生了购买行为，需要指出一天多次的购买不算是复购。\n",
    "\n",
    "因此复购率的计算方式为：复购率 = 复购用户数量 / 有购买行为的用户数量。"
   ]
  },
  {
   "metadata": {
    "ExecuteTime": {
     "end_time": "2025-08-24T02:27:47.331007Z",
     "start_time": "2025-08-24T02:27:45.669009Z"
    }
   },
   "cell_type": "code",
   "source": [
    "data_user_pay = data_user[data_user.behavior_type==4]\n",
    "data_user_pay = data_user_pay.groupby('user_id')['date'].apply(lambda x:len(x.unique()))\n",
    "data_user_pay.head()"
   ],
   "outputs": [
    {
     "data": {
      "text/plain": [
       "user_id\n",
       "4913     5\n",
       "6118     1\n",
       "7528     6\n",
       "7591     9\n",
       "12645    4\n",
       "Name: date, dtype: int64"
      ]
     },
     "execution_count": 42,
     "metadata": {},
     "output_type": "execute_result"
    }
   ],
   "execution_count": 42
  },
  {
   "metadata": {
    "ExecuteTime": {
     "end_time": "2025-08-24T02:28:27.708531Z",
     "start_time": "2025-08-24T02:28:27.687929Z"
    }
   },
   "cell_type": "code",
   "source": [
    "repeat_buy_ratio = data_user_pay[data_user_pay > 1].count() / data_user_pay.count()\n",
    "repeat_buy_ratio"
   ],
   "outputs": [
    {
     "data": {
      "text/plain": [
       "0.8717083051991897"
      ]
     },
     "execution_count": 43,
     "metadata": {},
     "output_type": "execute_result"
    }
   ],
   "execution_count": 43
  },
  {
   "metadata": {},
   "cell_type": "markdown",
   "source": "## 复购周期分析"
  },
  {
   "metadata": {
    "ExecuteTime": {
     "end_time": "2025-08-24T02:29:33.468055Z",
     "start_time": "2025-08-24T02:29:33.268170Z"
    }
   },
   "cell_type": "code",
   "source": [
    "data_user['action'] = 1 # 对每一行的行为记为1次，通过对行为次数的相加，从而计算频次\n",
    "data_user_buy = data_user[data_user.behavior_type == 4]\n",
    "data_user_buy = data_user_buy.groupby(['user_id','date'])['action'].count()\n",
    "data_user_buy = data_user_buy.reset_index()\n",
    "data_user_buy.head()"
   ],
   "outputs": [
    {
     "data": {
      "text/plain": [
       "   user_id       date  action\n",
       "0     4913 2014-12-01       1\n",
       "1     4913 2014-12-07       2\n",
       "2     4913 2014-12-11       1\n",
       "3     4913 2014-12-13       1\n",
       "4     4913 2014-12-16       1"
      ],
      "text/html": [
       "<div>\n",
       "<style scoped>\n",
       "    .dataframe tbody tr th:only-of-type {\n",
       "        vertical-align: middle;\n",
       "    }\n",
       "\n",
       "    .dataframe tbody tr th {\n",
       "        vertical-align: top;\n",
       "    }\n",
       "\n",
       "    .dataframe thead th {\n",
       "        text-align: right;\n",
       "    }\n",
       "</style>\n",
       "<table border=\"1\" class=\"dataframe\">\n",
       "  <thead>\n",
       "    <tr style=\"text-align: right;\">\n",
       "      <th></th>\n",
       "      <th>user_id</th>\n",
       "      <th>date</th>\n",
       "      <th>action</th>\n",
       "    </tr>\n",
       "  </thead>\n",
       "  <tbody>\n",
       "    <tr>\n",
       "      <th>0</th>\n",
       "      <td>4913</td>\n",
       "      <td>2014-12-01</td>\n",
       "      <td>1</td>\n",
       "    </tr>\n",
       "    <tr>\n",
       "      <th>1</th>\n",
       "      <td>4913</td>\n",
       "      <td>2014-12-07</td>\n",
       "      <td>2</td>\n",
       "    </tr>\n",
       "    <tr>\n",
       "      <th>2</th>\n",
       "      <td>4913</td>\n",
       "      <td>2014-12-11</td>\n",
       "      <td>1</td>\n",
       "    </tr>\n",
       "    <tr>\n",
       "      <th>3</th>\n",
       "      <td>4913</td>\n",
       "      <td>2014-12-13</td>\n",
       "      <td>1</td>\n",
       "    </tr>\n",
       "    <tr>\n",
       "      <th>4</th>\n",
       "      <td>4913</td>\n",
       "      <td>2014-12-16</td>\n",
       "      <td>1</td>\n",
       "    </tr>\n",
       "  </tbody>\n",
       "</table>\n",
       "</div>"
      ]
     },
     "execution_count": 44,
     "metadata": {},
     "output_type": "execute_result"
    }
   ],
   "execution_count": 44
  },
  {
   "metadata": {
    "ExecuteTime": {
     "end_time": "2025-08-24T02:30:27.321137Z",
     "start_time": "2025-08-24T02:30:22.042152Z"
    }
   },
   "cell_type": "code",
   "source": [
    "data_user_buy_date_diff = data_user_buy.groupby('user_id').date.apply(lambda x:x.sort_values().diff(1).dropna())\n",
    "data_user_buy_date_diff.head(30)"
   ],
   "outputs": [
    {
     "data": {
      "text/plain": [
       "user_id    \n",
       "4913     1     6 days\n",
       "         2     4 days\n",
       "         3     2 days\n",
       "         4     3 days\n",
       "7528     7     4 days\n",
       "         8     1 days\n",
       "         9     3 days\n",
       "         10    3 days\n",
       "         11   10 days\n",
       "7591     13    7 days\n",
       "         14    1 days\n",
       "         15    1 days\n",
       "         16    2 days\n",
       "         17    4 days\n",
       "         18    1 days\n",
       "         19    1 days\n",
       "         20    1 days\n",
       "12645    22    2 days\n",
       "         23    4 days\n",
       "         24   11 days\n",
       "54056    26   19 days\n",
       "79824    29    9 days\n",
       "         30    8 days\n",
       "         31    6 days\n",
       "         32    1 days\n",
       "         33    1 days\n",
       "         34    3 days\n",
       "88930    36    2 days\n",
       "         37    2 days\n",
       "         38    1 days\n",
       "Name: date, dtype: timedelta64[ns]"
      ]
     },
     "execution_count": 45,
     "metadata": {},
     "output_type": "execute_result"
    }
   ],
   "execution_count": 45
  },
  {
   "metadata": {
    "ExecuteTime": {
     "end_time": "2025-08-24T02:32:53.412166Z",
     "start_time": "2025-08-24T02:32:53.239443Z"
    }
   },
   "cell_type": "code",
   "source": [
    "# 可视化\n",
    "data_user_buy_date_diff.value_counts().plot(kind='line')\n",
    "plt.xlabel('repeat_day_diff')\n",
    "plt.ylabel('count')"
   ],
   "outputs": [
    {
     "data": {
      "text/plain": [
       "Text(0, 0.5, 'count')"
      ]
     },
     "execution_count": 46,
     "metadata": {},
     "output_type": "execute_result"
    },
    {
     "data": {
      "text/plain": [
       "<Figure size 432x288 with 1 Axes>"
      ],
      "image/png": "[encoded data removed]"
     },
     "metadata": {},
     "output_type": "display_data"
    }
   ],
   "execution_count": 46
  },
  {
   "metadata": {
    "ExecuteTime": {
     "end_time": "2025-08-24T02:33:42.223210Z",
     "start_time": "2025-08-24T02:33:41.893652Z"
    }
   },
   "cell_type": "code",
   "source": [
    "data_user_buy_date_diff = data_user_buy_date_diff.apply(lambda x:x.days)\n",
    "data_user_buy_date_diff.head()"
   ],
   "outputs": [
    {
     "data": {
      "text/plain": [
       "user_id   \n",
       "4913     1    6\n",
       "         2    4\n",
       "         3    2\n",
       "         4    3\n",
       "7528     7    4\n",
       "Name: date, dtype: int64"
      ]
     },
     "execution_count": 47,
     "metadata": {},
     "output_type": "execute_result"
    }
   ],
   "execution_count": 47
  },
  {
   "metadata": {
    "ExecuteTime": {
     "end_time": "2025-08-24T02:34:09.231741Z",
     "start_time": "2025-08-24T02:34:08.983577Z"
    }
   },
   "cell_type": "code",
   "source": [
    "data_user_buy_date_diff.value_counts().plot(kind='line')\n",
    "plt.xlabel('repeat_day_diff')\n",
    "plt.ylabel('count')"
   ],
   "outputs": [
    {
     "data": {
      "text/plain": [
       "Text(0, 0.5, 'count')"
      ]
     },
     "execution_count": 48,
     "metadata": {},
     "output_type": "execute_result"
    },
    {
     "data": {
      "text/plain": [
       "<Figure size 432x288 with 1 Axes>"
      ],
      "image/png": "[encoded data removed]"
     },
     "metadata": {},
     "output_type": "display_data"
    }
   ],
   "execution_count": 48
  },
  {
   "metadata": {},
   "cell_type": "markdown",
   "source": "大部分用户的复购行为发生在5天之内，在第5天复购的行为出现了明显的拐点，如果这个时候采取营销策略提升用户的购买意图，增加更多收益。超过15天后，复购的意愿基本已经趋于0，此时可以考虑采取一些召回策略，增加复购的可能性，防止用户的流失。"
  },
  {
   "metadata": {},
   "cell_type": "markdown",
   "source": "# 流失率分析"
  },
  {
   "metadata": {
    "ExecuteTime": {
     "end_time": "2025-08-24T03:07:18.147190Z",
     "start_time": "2025-08-24T03:07:09.173859Z"
    }
   },
   "cell_type": "code",
   "source": [
    "data_user_count=data_user.groupby(['behavior_type']).count()\n",
    "data_user_count.head()"
   ],
   "outputs": [
    {
     "data": {
      "text/plain": [
       "                user_id   item_id  item_category      time      date  \\\n",
       "behavior_type                                                          \n",
       "1              11550581  11550581       11550581  11550581  11550581   \n",
       "2                242556    242556         242556    242556    242556   \n",
       "3                343564    343564         343564    343564    343564   \n",
       "4                120205    120205         120205    120205    120205   \n",
       "\n",
       "                   year     month       day      hour    action  \n",
       "behavior_type                                                    \n",
       "1              11550581  11550581  11550581  11550581  11550581  \n",
       "2                242556    242556    242556    242556    242556  \n",
       "3                343564    343564    343564    343564    343564  \n",
       "4                120205    120205    120205    120205    120205  "
      ],
      "text/html": [
       "<div>\n",
       "<style scoped>\n",
       "    .dataframe tbody tr th:only-of-type {\n",
       "        vertical-align: middle;\n",
       "    }\n",
       "\n",
       "    .dataframe tbody tr th {\n",
       "        vertical-align: top;\n",
       "    }\n",
       "\n",
       "    .dataframe thead th {\n",
       "        text-align: right;\n",
       "    }\n",
       "</style>\n",
       "<table border=\"1\" class=\"dataframe\">\n",
       "  <thead>\n",
       "    <tr style=\"text-align: right;\">\n",
       "      <th></th>\n",
       "      <th>user_id</th>\n",
       "      <th>item_id</th>\n",
       "      <th>item_category</th>\n",
       "      <th>time</th>\n",
       "      <th>date</th>\n",
       "      <th>year</th>\n",
       "      <th>month</th>\n",
       "      <th>day</th>\n",
       "      <th>hour</th>\n",
       "      <th>action</th>\n",
       "    </tr>\n",
       "    <tr>\n",
       "      <th>behavior_type</th>\n",
       "      <th></th>\n",
       "      <th></th>\n",
       "      <th></th>\n",
       "      <th></th>\n",
       "      <th></th>\n",
       "      <th></th>\n",
       "      <th></th>\n",
       "      <th></th>\n",
       "      <th></th>\n",
       "      <th></th>\n",
       "    </tr>\n",
       "  </thead>\n",
       "  <tbody>\n",
       "    <tr>\n",
       "      <th>1</th>\n",
       "      <td>11550581</td>\n",
       "      <td>11550581</td>\n",
       "      <td>11550581</td>\n",
       "      <td>11550581</td>\n",
       "      <td>11550581</td>\n",
       "      <td>11550581</td>\n",
       "      <td>11550581</td>\n",
       "      <td>11550581</td>\n",
       "      <td>11550581</td>\n",
       "      <td>11550581</td>\n",
       "    </tr>\n",
       "    <tr>\n",
       "      <th>2</th>\n",
       "      <td>242556</td>\n",
       "      <td>242556</td>\n",
       "      <td>242556</td>\n",
       "      <td>242556</td>\n",
       "      <td>242556</td>\n",
       "      <td>242556</td>\n",
       "      <td>242556</td>\n",
       "      <td>242556</td>\n",
       "      <td>242556</td>\n",
       "      <td>242556</td>\n",
       "    </tr>\n",
       "    <tr>\n",
       "      <th>3</th>\n",
       "      <td>343564</td>\n",
       "      <td>343564</td>\n",
       "      <td>343564</td>\n",
       "      <td>343564</td>\n",
       "      <td>343564</td>\n",
       "      <td>343564</td>\n",
       "      <td>343564</td>\n",
       "      <td>343564</td>\n",
       "      <td>343564</td>\n",
       "      <td>343564</td>\n",
       "    </tr>\n",
       "    <tr>\n",
       "      <th>4</th>\n",
       "      <td>120205</td>\n",
       "      <td>120205</td>\n",
       "      <td>120205</td>\n",
       "      <td>120205</td>\n",
       "      <td>120205</td>\n",
       "      <td>120205</td>\n",
       "      <td>120205</td>\n",
       "      <td>120205</td>\n",
       "      <td>120205</td>\n",
       "      <td>120205</td>\n",
       "    </tr>\n",
       "  </tbody>\n",
       "</table>\n",
       "</div>"
      ]
     },
     "execution_count": 56,
     "metadata": {},
     "output_type": "execute_result"
    }
   ],
   "execution_count": 56
  },
  {
   "metadata": {
    "ExecuteTime": {
     "end_time": "2025-08-24T03:09:59.761144Z",
     "start_time": "2025-08-24T03:09:49.288498Z"
    }
   },
   "cell_type": "code",
   "source": [
    "pv_all = data_user['user_id'].count()\n",
    "click_all = data_user[data_user['behavior_type'] == 1]['user_id'].count()\n",
    "fav_all = data_user[data_user['behavior_type'] == 2]['user_id'].count()\n",
    "add_all = data_user[data_user['behavior_type'] == 3]['user_id'].count()\n",
    "pay_all = data_user[data_user['behavior_type'] == 4]['user_id'].count()\n",
    "print('总浏览：', pv_all)\n",
    "print('点击量：', click_all)\n",
    "print('收藏量：', fav_all)\n",
    "print('加购量：', add_all)\n",
    "print('购买量：', pay_all)"
   ],
   "outputs": [
    {
     "name": "stdout",
     "output_type": "stream",
     "text": [
      "总浏览： 12256906\n",
      "点击量： 11550581\n",
      "收藏量： 242556\n",
      "加购量： 343564\n",
      "购买量： 120205\n"
     ]
    }
   ],
   "execution_count": 57
  },
  {
   "metadata": {
    "ExecuteTime": {
     "end_time": "2025-08-24T03:15:57.187121Z",
     "start_time": "2025-08-24T03:15:57.174796Z"
    }
   },
   "cell_type": "code",
   "source": [
    "# 流失率\n",
    "print('总浏览量—点击量 流失率：', 100 * (pv_all - click_all) / pv_all)\n",
    "print('点击量—收藏量 流失率：', 100 * (click_all - fav_all) / click_all)\n",
    "print('加购量—收藏量 流失率：', 100 * (add_all - fav_all) / add_all)\n",
    "print('收藏量—购买量 流失率：', 100 * (fav_all - pay_all) / fav_all)"
   ],
   "outputs": [
    {
     "name": "stdout",
     "output_type": "stream",
     "text": [
      "总浏览量—点击量 流失率： 5.762669632939994\n",
      "点击量—收藏量 流失率： 97.90005368561114\n",
      "加购量—收藏量 流失率： 29.400053556251528\n",
      "收藏量—购买量 流失率： 50.442372070779534\n"
     ]
    }
   ],
   "execution_count": 60
  },
  {
   "metadata": {},
   "cell_type": "markdown",
   "source": "# 商品分析"
  },
  {
   "metadata": {
    "ExecuteTime": {
     "end_time": "2025-08-24T03:28:56.554955Z",
     "start_time": "2025-08-24T03:28:15.329164Z"
    }
   },
   "cell_type": "code",
   "source": [
    "# top 10 点击量商品\n",
    "data_item_pv = data_user[data_user.behavior_type == 1].groupby('item_id')['user_id'].nunique().sort_values(ascending=False)\n",
    "data_item_pv.head(10)"
   ],
   "outputs": [
    {
     "data": {
      "text/plain": [
       "item_id\n",
       "112921337    518\n",
       "128186279    341\n",
       "135104537    339\n",
       "97655171     332\n",
       "2217535      317\n",
       "5685392      302\n",
       "374235261    300\n",
       "387911330    298\n",
       "275450912    288\n",
       "209323160    282\n",
       "Name: user_id, dtype: int64"
      ]
     },
     "execution_count": 64,
     "metadata": {},
     "output_type": "execute_result"
    }
   ],
   "execution_count": 64
  },
  {
   "metadata": {
    "ExecuteTime": {
     "end_time": "2025-08-24T03:29:09.975520Z",
     "start_time": "2025-08-24T03:29:05.049161Z"
    }
   },
   "cell_type": "code",
   "source": [
    "# top 10 收藏量商品\n",
    "data_item_fav = data_user[data_user.behavior_type == 2].groupby('item_id')['user_id'].nunique().sort_values(ascending=False)\n",
    "data_item_fav.head(10)"
   ],
   "outputs": [
    {
     "data": {
      "text/plain": [
       "item_id\n",
       "277922302    23\n",
       "378505512    17\n",
       "132473636    16\n",
       "336964100    16\n",
       "6703599      15\n",
       "110998572    14\n",
       "236236780    14\n",
       "276636269    14\n",
       "58727293     14\n",
       "108385699    14\n",
       "Name: user_id, dtype: int64"
      ]
     },
     "execution_count": 65,
     "metadata": {},
     "output_type": "execute_result"
    }
   ],
   "execution_count": 65
  },
  {
   "metadata": {
    "ExecuteTime": {
     "end_time": "2025-08-24T03:30:27.043043Z",
     "start_time": "2025-08-24T03:30:25.768996Z"
    }
   },
   "cell_type": "code",
   "source": [
    "# top 10 加购量商品\n",
    "data_item_add = data_user[data_user.behavior_type == 3].groupby('item_id')['user_id'].nunique().sort_values(ascending=False)\n",
    "data_item_add.head(10)"
   ],
   "outputs": [
    {
     "data": {
      "text/plain": [
       "item_id\n",
       "83098075     41\n",
       "303205878    36\n",
       "14087919     29\n",
       "341889939    28\n",
       "209323160    25\n",
       "353381230    25\n",
       "374214353    21\n",
       "72183675     20\n",
       "125666923    20\n",
       "270743160    19\n",
       "Name: user_id, dtype: int64"
      ]
     },
     "execution_count": 66,
     "metadata": {},
     "output_type": "execute_result"
    }
   ],
   "execution_count": 66
  },
  {
   "metadata": {
    "ExecuteTime": {
     "end_time": "2025-08-24T03:26:10.563711Z",
     "start_time": "2025-08-24T03:26:07.580320Z"
    }
   },
   "cell_type": "code",
   "source": [
    "# top 10 购买量商品\n",
    "data_item_buy = data_user[data_user.behavior_type == 4].groupby('item_id')['user_id'].nunique().sort_values(ascending=False)\n",
    "data_item_buy.head(10)"
   ],
   "outputs": [
    {
     "data": {
      "text/plain": [
       "item_id\n",
       "167074648    28\n",
       "14087919     25\n",
       "303205878    20\n",
       "83098075     19\n",
       "331710542    19\n",
       "Name: user_id, dtype: int64"
      ]
     },
     "execution_count": 63,
     "metadata": {},
     "output_type": "execute_result"
    }
   ],
   "execution_count": 63
  },
  {
   "metadata": {
    "ExecuteTime": {
     "end_time": "2025-08-24T03:36:59.156745Z",
     "start_time": "2025-08-24T03:36:58.180275Z"
    }
   },
   "cell_type": "code",
   "source": [
    "# 计算重叠度\n",
    "overlap = len(set(data_item_pv) & set(data_item_buy)) / len(set(data_item_pv))\n",
    "print(\"点击商品数：\", len(set(data_item_pv)))\n",
    "print(\"重叠商品数：\", len(set(data_item_pv) & set(data_item_buy)))\n",
    "print(\"转化率：\", overlap)"
   ],
   "outputs": [
    {
     "name": "stdout",
     "output_type": "stream",
     "text": [
      "点击商品数： 179\n",
      "重叠商品数： 20\n",
      "转化率： 0.11173184357541899\n"
     ]
    }
   ],
   "execution_count": 69
  },
  {
   "metadata": {},
   "cell_type": "code",
   "outputs": [],
   "execution_count": null,
   "source": ""
  }
 ],
 "metadata": {
  "kernelspec": {
   "display_name": "polyppvt",
   "language": "python",
   "name": "polyppvt"
  },
  "language_info": {
   "codemirror_mode": {
    "name": "ipython",
    "version": 3
   },
   "file_extension": ".py",
   "mimetype": "text/x-python",
   "name": "python",
   "nbconvert_exporter": "python",
   "pygments_lexer": "ipython3",
   "version": "3.7.6"
  }
 },
 "nbformat": 4,
 "nbformat_minor": 4
}
